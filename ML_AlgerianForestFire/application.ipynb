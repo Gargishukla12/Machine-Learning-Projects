{
 "cells": [
  {
   "cell_type": "code",
   "execution_count": 1,
   "id": "7a569819-ffa6-4079-88af-4f1fdc06aee3",
   "metadata": {},
   "outputs": [],
   "source": [
    "from flask import Flask, request,jsonify,render_template\n",
    "import pickle\n",
    "import numpy as np\n",
    "import pandas as pd\n",
    "from sklearn.preprocessing import StandardScaler\n"
   ]
  },
  {
   "cell_type": "code",
   "execution_count": 14,
   "id": "bc04be59-8407-47a2-9c61-dd0572154b9f",
   "metadata": {},
   "outputs": [],
   "source": [
    "application=Flask(__name__)"
   ]
  },
  {
   "cell_type": "code",
   "execution_count": 15,
   "id": "c82d473e-0197-4567-98b7-98687f7ad5fb",
   "metadata": {},
   "outputs": [],
   "source": [
    "app=application\n",
    "ridge_model=pickle.load(open('ridge.pkl','rb'))\n",
    "standard_scaler=pickle.load(open('scaler.pkl','rb')) "
   ]
  },
  {
   "cell_type": "code",
   "execution_count": 16,
   "id": "435a3365-4bdd-41a8-930c-494d5b5c70c6",
   "metadata": {},
   "outputs": [],
   "source": [
    "#app = Flask(__name__)\n",
    "\n",
    "@app.route('/')\n",
    "def home():\n",
    "    return \"Hello, Flask is running inside Jupyter!\n",
    "\n",
    "def index():\n",
    "    return render_template('index.html')     "
   ]
  },
  {
   "cell_type": "code",
   "execution_count": 18,
   "id": "c9f50749-dca5-4b01-96f0-196a7dca680b",
   "metadata": {},
   "outputs": [
    {
     "name": "stdout",
     "output_type": "stream",
     "text": [
      " * Serving Flask app '__main__'\n",
      " * Debug mode: on\n"
     ]
    },
    {
     "name": "stderr",
     "output_type": "stream",
     "text": [
      "WARNING: This is a development server. Do not use it in a production deployment. Use a production WSGI server instead.\n",
      " * Running on all addresses (0.0.0.0)\n",
      " * Running on http://127.0.0.1:9000\n",
      " * Running on http://192.168.1.7:9000\n",
      "Press CTRL+C to quit\n",
      "192.168.1.7 - - [04/Oct/2025 11:54:55] \"GET / HTTP/1.1\" 200 -\n",
      "192.168.1.7 - - [04/Oct/2025 11:54:55] \"GET /favicon.ico HTTP/1.1\" 404 -\n",
      "192.168.1.7 - - [04/Oct/2025 11:55:48] \"GET / HTTP/1.1\" 200 -\n",
      "192.168.1.7 - - [04/Oct/2025 11:55:51] \"GET / HTTP/1.1\" 200 -\n"
     ]
    }
   ],
   "source": [
    "import threading\n",
    "\n",
    "def run_app():\n",
    "    app.run(host='0.0.0.0', port=9000, debug=True, use_reloader=False)\n",
    "\n",
    "thread = threading.Thread(target=run_app)\n",
    "thread.start()"
   ]
  },
  {
   "cell_type": "code",
   "execution_count": null,
   "id": "9adc2fdc-5efe-48fc-a25f-086dd8faa042",
   "metadata": {},
   "outputs": [],
   "source": []
  }
 ],
 "metadata": {
  "kernelspec": {
   "display_name": "Python [conda env:base] *",
   "language": "python",
   "name": "conda-base-py"
  },
  "language_info": {
   "codemirror_mode": {
    "name": "ipython",
    "version": 3
   },
   "file_extension": ".py",
   "mimetype": "text/x-python",
   "name": "python",
   "nbconvert_exporter": "python",
   "pygments_lexer": "ipython3",
   "version": "3.13.5"
  }
 },
 "nbformat": 4,
 "nbformat_minor": 5
}
