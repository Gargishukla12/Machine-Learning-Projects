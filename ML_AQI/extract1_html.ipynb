{
 "cells": [
  {
   "cell_type": "code",
   "execution_count": 7,
   "id": "63ca3002-beb7-4d47-9017-bd18c115fba1",
   "metadata": {},
   "outputs": [],
   "source": [
    "import os \n",
    "import time \n",
    "import requests\n",
    "import sys"
   ]
  },
  {
   "cell_type": "code",
   "execution_count": 9,
   "id": "607201ef-aea4-4940-8f8f-00c843bf71cb",
   "metadata": {},
   "outputs": [
    {
     "name": "stdout",
     "output_type": "stream",
     "text": [
      "Time taken 177.03463888168335\n"
     ]
    }
   ],
   "source": [
    "# retrieving data - collection of data \n",
    "def retrieve_html():\n",
    "    for year in range(2020,2025):\n",
    "        for month in range(1,13):\n",
    "            if(month<10):\n",
    "                url='http://en.tutiempo.net/climate/0{}-{}/ws-421820.html'.format(month\n",
    "                                                                          ,year)\n",
    "            else:\n",
    "                url='http://en.tutiempo.net/climate/{}-{}/ws-421820.html'.format(month\n",
    "                                                                          ,year)\n",
    "            texts=requests.get(url)\n",
    "            text_utf=texts.text.encode('utf=8')\n",
    "            \n",
    "            if not os.path.exists(\"Data/Html_Data/{}\".format(year)):\n",
    "                os.makedirs(\"Data/Html_Data/{}\".format(year))\n",
    "            with open(\"Data/Html_Data/{}/{}.html\".format(year,month),\"wb\") as output:\n",
    "                output.write(text_utf)\n",
    "            \n",
    "        sys.stdout.flush()\n",
    "        \n",
    "if __name__==\"__main__\":\n",
    "    start_time=time.time()\n",
    "    retrieve_html()\n",
    "    stop_time=time.time()\n",
    "    print(\"Time taken {}\".format(stop_time-start_time))\n",
    "        "
   ]
  }
 ],
 "metadata": {
  "kernelspec": {
   "display_name": "Python [conda env:base] *",
   "language": "python",
   "name": "conda-base-py"
  },
  "language_info": {
   "codemirror_mode": {
    "name": "ipython",
    "version": 3
   },
   "file_extension": ".py",
   "mimetype": "text/x-python",
   "name": "python",
   "nbconvert_exporter": "python",
   "pygments_lexer": "ipython3",
   "version": "3.13.5"
  }
 },
 "nbformat": 4,
 "nbformat_minor": 5
}
